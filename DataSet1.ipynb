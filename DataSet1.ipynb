{
  "nbformat": 4,
  "nbformat_minor": 0,
  "metadata": {
    "colab": {
      "name": "DataSet1.ipynb",
      "provenance": []
    },
    "kernelspec": {
      "name": "python3",
      "display_name": "Python 3"
    }
  },
  "cells": [
    {
      "cell_type": "markdown",
      "metadata": {
        "id": "5EQwADZBK87b"
      },
      "source": [
        "This data set contains info on the maximum, minimum, and mean temperatures for each day in Seattle from 1948 to to 2015."
      ]
    },
    {
      "cell_type": "code",
      "metadata": {
        "id": "w1gGHlbpAl9U",
        "outputId": "46a872ab-9efd-4021-ed9b-3061b5399c9c",
        "colab": {
          "base_uri": "https://localhost:8080/",
          "height": 198
        }
      },
      "source": [
        "#https://raw.githubusercontent.com/plotly/datasets/master/2016-weather-data-seattle.csv\n",
        "\n",
        "import pandas as pd\n",
        "import numpy as np\n",
        "import matplotlib.pyplot as plt\n",
        "import missingno as msno\n",
        "import seaborn as sns\n",
        "\n",
        "\n",
        "df = pd.read_csv(\"https://raw.githubusercontent.com/plotly/datasets/master/2016-weather-data-seattle.csv\")\n",
        "df.head()"
      ],
      "execution_count": 1,
      "outputs": [
        {
          "output_type": "execute_result",
          "data": {
            "text/html": [
              "<div>\n",
              "<style scoped>\n",
              "    .dataframe tbody tr th:only-of-type {\n",
              "        vertical-align: middle;\n",
              "    }\n",
              "\n",
              "    .dataframe tbody tr th {\n",
              "        vertical-align: top;\n",
              "    }\n",
              "\n",
              "    .dataframe thead th {\n",
              "        text-align: right;\n",
              "    }\n",
              "</style>\n",
              "<table border=\"1\" class=\"dataframe\">\n",
              "  <thead>\n",
              "    <tr style=\"text-align: right;\">\n",
              "      <th></th>\n",
              "      <th>Date</th>\n",
              "      <th>Max_TemperatureC</th>\n",
              "      <th>Mean_TemperatureC</th>\n",
              "      <th>Min_TemperatureC</th>\n",
              "    </tr>\n",
              "  </thead>\n",
              "  <tbody>\n",
              "    <tr>\n",
              "      <th>0</th>\n",
              "      <td>1/1/1948</td>\n",
              "      <td>10</td>\n",
              "      <td>8.0</td>\n",
              "      <td>7.0</td>\n",
              "    </tr>\n",
              "    <tr>\n",
              "      <th>1</th>\n",
              "      <td>1/2/1948</td>\n",
              "      <td>6</td>\n",
              "      <td>4.0</td>\n",
              "      <td>3.0</td>\n",
              "    </tr>\n",
              "    <tr>\n",
              "      <th>2</th>\n",
              "      <td>1/3/1948</td>\n",
              "      <td>7</td>\n",
              "      <td>4.0</td>\n",
              "      <td>2.0</td>\n",
              "    </tr>\n",
              "    <tr>\n",
              "      <th>3</th>\n",
              "      <td>1/4/1948</td>\n",
              "      <td>7</td>\n",
              "      <td>4.0</td>\n",
              "      <td>2.0</td>\n",
              "    </tr>\n",
              "    <tr>\n",
              "      <th>4</th>\n",
              "      <td>1/5/1948</td>\n",
              "      <td>7</td>\n",
              "      <td>3.0</td>\n",
              "      <td>0.0</td>\n",
              "    </tr>\n",
              "  </tbody>\n",
              "</table>\n",
              "</div>"
            ],
            "text/plain": [
              "       Date  Max_TemperatureC  Mean_TemperatureC  Min_TemperatureC\n",
              "0  1/1/1948                10                8.0               7.0\n",
              "1  1/2/1948                 6                4.0               3.0\n",
              "2  1/3/1948                 7                4.0               2.0\n",
              "3  1/4/1948                 7                4.0               2.0\n",
              "4  1/5/1948                 7                3.0               0.0"
            ]
          },
          "metadata": {
            "tags": []
          },
          "execution_count": 1
        }
      ]
    },
    {
      "cell_type": "code",
      "metadata": {
        "id": "yNEC545xNE2_",
        "outputId": "6bf8399f-52af-4b00-f680-2085bb919f0b",
        "colab": {
          "base_uri": "https://localhost:8080/"
        }
      },
      "source": [
        "#check for null values\n",
        "df.isnull().sum()"
      ],
      "execution_count": 2,
      "outputs": [
        {
          "output_type": "execute_result",
          "data": {
            "text/plain": [
              "Date                 0\n",
              "Max_TemperatureC     0\n",
              "Mean_TemperatureC    5\n",
              "Min_TemperatureC     1\n",
              "dtype: int64"
            ]
          },
          "metadata": {
            "tags": []
          },
          "execution_count": 2
        }
      ]
    },
    {
      "cell_type": "code",
      "metadata": {
        "id": "P0iyBXVGNIv7",
        "outputId": "11fa6bd6-a38f-426b-ca55-01482dfdb53f",
        "colab": {
          "base_uri": "https://localhost:8080/"
        }
      },
      "source": [
        "#checks if the dataframe is empty\n",
        "\n",
        "print(df.empty)"
      ],
      "execution_count": 3,
      "outputs": [
        {
          "output_type": "stream",
          "text": [
            "False\n"
          ],
          "name": "stdout"
        }
      ]
    },
    {
      "cell_type": "code",
      "metadata": {
        "id": "u97cyAlrPBaq",
        "outputId": "6f9fba1f-5f31-442c-d7a8-7e103b0dc2f7",
        "colab": {
          "base_uri": "https://localhost:8080/",
          "height": 288
        }
      },
      "source": [
        "#gets the statistics of the data set\n",
        "\n",
        "df.describe()"
      ],
      "execution_count": 5,
      "outputs": [
        {
          "output_type": "execute_result",
          "data": {
            "text/html": [
              "<div>\n",
              "<style scoped>\n",
              "    .dataframe tbody tr th:only-of-type {\n",
              "        vertical-align: middle;\n",
              "    }\n",
              "\n",
              "    .dataframe tbody tr th {\n",
              "        vertical-align: top;\n",
              "    }\n",
              "\n",
              "    .dataframe thead th {\n",
              "        text-align: right;\n",
              "    }\n",
              "</style>\n",
              "<table border=\"1\" class=\"dataframe\">\n",
              "  <thead>\n",
              "    <tr style=\"text-align: right;\">\n",
              "      <th></th>\n",
              "      <th>Max_TemperatureC</th>\n",
              "      <th>Mean_TemperatureC</th>\n",
              "      <th>Min_TemperatureC</th>\n",
              "    </tr>\n",
              "  </thead>\n",
              "  <tbody>\n",
              "    <tr>\n",
              "      <th>count</th>\n",
              "      <td>24381.000000</td>\n",
              "      <td>24376.000000</td>\n",
              "      <td>24380.000000</td>\n",
              "    </tr>\n",
              "    <tr>\n",
              "      <th>mean</th>\n",
              "      <td>14.944014</td>\n",
              "      <td>11.043485</td>\n",
              "      <td>7.252338</td>\n",
              "    </tr>\n",
              "    <tr>\n",
              "      <th>std</th>\n",
              "      <td>7.171926</td>\n",
              "      <td>5.794158</td>\n",
              "      <td>4.913692</td>\n",
              "    </tr>\n",
              "    <tr>\n",
              "      <th>min</th>\n",
              "      <td>-18.000000</td>\n",
              "      <td>-12.000000</td>\n",
              "      <td>-17.000000</td>\n",
              "    </tr>\n",
              "    <tr>\n",
              "      <th>25%</th>\n",
              "      <td>9.000000</td>\n",
              "      <td>7.000000</td>\n",
              "      <td>4.000000</td>\n",
              "    </tr>\n",
              "    <tr>\n",
              "      <th>50%</th>\n",
              "      <td>14.000000</td>\n",
              "      <td>11.000000</td>\n",
              "      <td>7.000000</td>\n",
              "    </tr>\n",
              "    <tr>\n",
              "      <th>75%</th>\n",
              "      <td>20.000000</td>\n",
              "      <td>16.000000</td>\n",
              "      <td>11.000000</td>\n",
              "    </tr>\n",
              "    <tr>\n",
              "      <th>max</th>\n",
              "      <td>54.000000</td>\n",
              "      <td>31.000000</td>\n",
              "      <td>22.000000</td>\n",
              "    </tr>\n",
              "  </tbody>\n",
              "</table>\n",
              "</div>"
            ],
            "text/plain": [
              "       Max_TemperatureC  Mean_TemperatureC  Min_TemperatureC\n",
              "count      24381.000000       24376.000000      24380.000000\n",
              "mean          14.944014          11.043485          7.252338\n",
              "std            7.171926           5.794158          4.913692\n",
              "min          -18.000000         -12.000000        -17.000000\n",
              "25%            9.000000           7.000000          4.000000\n",
              "50%           14.000000          11.000000          7.000000\n",
              "75%           20.000000          16.000000         11.000000\n",
              "max           54.000000          31.000000         22.000000"
            ]
          },
          "metadata": {
            "tags": []
          },
          "execution_count": 5
        }
      ]
    },
    {
      "cell_type": "markdown",
      "metadata": {
        "id": "eMkX7_8SgRmQ"
      },
      "source": [
        "This plot shows that minimum temperature seems to be sharply curving towards higher temperatures, which might indicate an overall rise in temperature."
      ]
    },
    {
      "cell_type": "code",
      "metadata": {
        "id": "wkYsigvlNQmq",
        "outputId": "a302d1c4-11e7-4cff-ef84-c3f7f484359c",
        "colab": {
          "base_uri": "https://localhost:8080/",
          "height": 688
        }
      },
      "source": [
        "#histogram\n",
        "\n",
        "df.hist(figsize=(15, 10), bins = 20, xlabelsize=10, ylabelsize=10)"
      ],
      "execution_count": 4,
      "outputs": [
        {
          "output_type": "execute_result",
          "data": {
            "text/plain": [
              "array([[<matplotlib.axes._subplots.AxesSubplot object at 0x7f74a03740b8>,\n",
              "        <matplotlib.axes._subplots.AxesSubplot object at 0x7f749fc29b70>],\n",
              "       [<matplotlib.axes._subplots.AxesSubplot object at 0x7f749fbe1dd8>,\n",
              "        <matplotlib.axes._subplots.AxesSubplot object at 0x7f749fb9f080>]],\n",
              "      dtype=object)"
            ]
          },
          "metadata": {
            "tags": []
          },
          "execution_count": 4
        },
        {
          "output_type": "display_data",
          "data": {
            "image/png": "[encoded data removed]",
            "text/plain": [
              "<Figure size 1080x720 with 4 Axes>"
            ]
          },
          "metadata": {
            "tags": [],
            "needs_background": "light"
          }
        }
      ]
    },
    {
      "cell_type": "markdown",
      "metadata": {
        "id": "cPgWgiGIdPE9"
      },
      "source": [
        "This scatterplot shows that as max temperature rises, so does min temperature."
      ]
    },
    {
      "cell_type": "code",
      "metadata": {
        "id": "EuNATe71cRxZ",
        "outputId": "05cb83b8-e6bf-4d99-acb1-2ba5a9a47bc0",
        "colab": {
          "base_uri": "https://localhost:8080/",
          "height": 296
        }
      },
      "source": [
        "#scatter plot\n",
        "\n",
        "df.plot(x='Max_TemperatureC', y='Min_TemperatureC', kind='scatter')"
      ],
      "execution_count": 9,
      "outputs": [
        {
          "output_type": "execute_result",
          "data": {
            "text/plain": [
              "<matplotlib.axes._subplots.AxesSubplot at 0x7f748599c2b0>"
            ]
          },
          "metadata": {
            "tags": []
          },
          "execution_count": 9
        },
        {
          "output_type": "display_data",
          "data": {
            "image/png": "[encoded data removed]",
            "text/plain": [
              "<Figure size 432x288 with 1 Axes>"
            ]
          },
          "metadata": {
            "tags": [],
            "needs_background": "light"
          }
        }
      ]
    },
    {
      "cell_type": "markdown",
      "metadata": {
        "id": "K03Cvsanh_KU"
      },
      "source": [
        "It seems that there has been a significant temperature change in Seattle over time, but that the extremes have not become more extreme, instead rising or falling together.  As a next step, I think it would be important to look at max and min temperature plotted against day or month - to see if there is a consistent rise or fall over the years."
      ]
    }
  ]
}