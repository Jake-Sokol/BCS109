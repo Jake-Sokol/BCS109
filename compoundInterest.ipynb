{
  "nbformat": 4,
  "nbformat_minor": 0,
  "metadata": {
    "colab": {
      "name": "compoundInterest.ipynb",
      "provenance": [],
      "collapsed_sections": []
    },
    "kernelspec": {
      "name": "python3",
      "display_name": "Python 3"
    }
  },
  "cells": [
    {
      "cell_type": "markdown",
      "metadata": {
        "id": "99St5Dv4cBgU",
        "colab_type": "text"
      },
      "source": [
        "#Compound Interest Calculation - Finding the Principal Amount\n",
        "\n",
        "This program allows the user to find the starting amount in a compound interest equation.  The user enters the **future amount**, **annual interest rate**, **time**, and **number of times compounded**, and the program returns the principal value.\n",
        "\n",
        "The formula $P = \\frac{A}{(1+ \\frac{r}{n})^{nt}}$ is used, where\n",
        "* P = principal value\n",
        "* A = future value\n",
        "* n = number of times compounded in one time **t**\n",
        "* r = interest rate\n",
        "* t = time\n"
      ]
    },
    {
      "cell_type": "code",
      "metadata": {
        "id": "97dvTbf-Dia9",
        "colab_type": "code",
        "colab": {
          "base_uri": "https://localhost:8080/",
          "height": 102
        },
        "outputId": "6b83218a-b1ed-4152-a8b7-1594fb75c78b"
      },
      "source": [
        "print(\"Enter the future amount: \", end=' ')\n",
        "a = float(input())\n",
        "\n",
        "print(\"Enter the annual interest rate: \", end=' ')\n",
        "r = float(input())\n",
        "#converts the interest rate to a decimal\n",
        "r = r / 100\n",
        "\n",
        "print(\"How many years will the account earn interest?: \", end=' ')\n",
        "t = int(input())\n",
        "\n",
        "print(\"How many times per year is the interest compounded?: \", end=' ')\n",
        "n = int(input())\n",
        "\n",
        "p = a / ((1+ (r / n)) ** (n * t))\n",
        "\n",
        "print(\"You will need to invest $\", format(p, \",.2f\"), \"to reach the ending goal of\", a)\n"
      ],
      "execution_count": 18,
      "outputs": [
        {
          "output_type": "stream",
          "text": [
            "Enter the future amount:  1\n",
            "Enter the annual interest rate:  1\n",
            "How many years will the account earn interest?:  1\n",
            "How many times per year is the interest compounded?:  1\n",
            "You will need to invest $ 0.99 to reach the ending goal of 1.0\n"
          ],
          "name": "stdout"
        }
      ]
    },
    {
      "cell_type": "markdown",
      "metadata": {
        "id": "LYbUTXarb_wv",
        "colab_type": "text"
      },
      "source": [
        "#Compound Interest Calculation - Finding the Final Amount\n",
        "\n",
        "The user enters the **starting amount**, **annual interest rate**, **time**, and **number of times compounded**, and the program returns the final value.\n",
        "\n",
        "The formula $A = P(1+ \\frac{r}{n})^{nt}$ is used, where\n",
        "* P = principal value\n",
        "* A = future value\n",
        "* n = number of times compounded in one time **t**\n",
        "* r = interest rate\n",
        "* t = time"
      ]
    },
    {
      "cell_type": "code",
      "metadata": {
        "id": "_2OS2LQNcAQP",
        "colab_type": "code",
        "colab": {
          "base_uri": "https://localhost:8080/",
          "height": 102
        },
        "outputId": "8a63cc8d-0100-4c71-a612-6edd42d43791"
      },
      "source": [
        "print(\"Enter the starting amount: \", end=' ')\n",
        "p = float(input())\n",
        "\n",
        "print(\"Enter the annual interest rate: \", end=' ')\n",
        "r = float(input())\n",
        "#converts the interest rate to a decimal\n",
        "r = r/100\n",
        "\n",
        "print(\"How many years will the account earn interest?: \", end=' ')\n",
        "t = int(input())\n",
        "\n",
        "print(\"How many times per year is the interest compounded?: \", end=' ')\n",
        "n = int(input())\n",
        "\n",
        "a = p * (1 + float(r) / n) ** (n * t)\n",
        "\n",
        "print(\"At the end of\", t, \"years, you will have $\", format(a, \".2f\"))\n"
      ],
      "execution_count": 15,
      "outputs": [
        {
          "output_type": "stream",
          "text": [
            "Enter the starting amount:  100\n",
            "Enter the annual interest rate:  7\n",
            "How many years will the account earn interest?:  30\n",
            "How many times per year is the interest compounded?:  12\n",
            "At the end of 30 years, you will have $ 811.65\n"
          ],
          "name": "stdout"
        }
      ]
    }
  ]
}