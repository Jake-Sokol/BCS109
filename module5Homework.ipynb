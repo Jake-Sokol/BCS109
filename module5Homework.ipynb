{
  "nbformat": 4,
  "nbformat_minor": 0,
  "metadata": {
    "colab": {
      "name": "module5Homework.ipynb",
      "provenance": []
    },
    "kernelspec": {
      "name": "python3",
      "display_name": "Python 3"
    }
  },
  "cells": [
    {
      "cell_type": "markdown",
      "metadata": {
        "id": "ldjIt0KIM3Re"
      },
      "source": [
        "#Input Validation with Names and Ages\n",
        "\n",
        "This program asks the user to enter their name and their age, and does not move on until the name value is is appropriate (it is made entirely of letters) and the age value is appropriate (it is between 1 and 100).  The user has 3 tries to successfully enter appropriate values."
      ]
    },
    {
      "cell_type": "code",
      "metadata": {
        "id": "es_mRDACrIhg",
        "outputId": "c9f3b37c-753e-4b71-fea6-c3ab7587ef60",
        "colab": {
          "base_uri": "https://localhost:8080/",
          "height": 69
        }
      },
      "source": [
        "for i in range(3):\n",
        "\n",
        "  name = input(\"What is your name? \")\n",
        "  age = int(input(\"What is your age? \"))\n",
        "\n",
        "  if name.isalpha() and (age >= 1 and age <=100):\n",
        "    print(\"Acceptable.\")\n",
        "    break\n",
        "  else:\n",
        "    print(\"Unacceptable.\")"
      ],
      "execution_count": 101,
      "outputs": [
        {
          "output_type": "stream",
          "text": [
            "What is your name? Jake\n",
            "What is your age? 20\n",
            "Acceptable.\n"
          ],
          "name": "stdout"
        }
      ]
    },
    {
      "cell_type": "markdown",
      "metadata": {
        "id": "NIxf0FuoNax1"
      },
      "source": [
        "#Input Validation with Passwords\n",
        "\n",
        "This program asks the user to create a password and gives them infinite attempts to do so.  The program does not move on and accept the password unless it meets all of the requirements - it must be at least 8 characters long and must contain a lowercase letter, an uppercase letter, a number, and a special character."
      ]
    },
    {
      "cell_type": "code",
      "metadata": {
        "id": "X31I7FWDwrpE",
        "outputId": "4e0ff17f-3a2d-4b48-dc3a-21cb5341ceb1",
        "colab": {
          "base_uri": "https://localhost:8080/",
          "height": 89
        }
      },
      "source": [
        "upper = 0\n",
        "lower = 0\n",
        "length = 0\n",
        "numbers = 0\n",
        "sChar = 0\n",
        "\n",
        "while (True):\n",
        "  password = input(\"Please create a password.  It must be at least 8 characters, must contain a number, an uppercase letter, a lowercase letter, and a special character.\")\n",
        "\n",
        "  if (any(x.isupper() for x in password)):\n",
        "    upper = 1\n",
        "  else:\n",
        "    print(\"does not contain an uppercase letter\")\n",
        "    upper = 0\n",
        "\n",
        "  if (any(x.islower() for x in password)):\n",
        "    lower = 1\n",
        "  else:\n",
        "    print(\"does not contain a lowercase letter\")\n",
        "    lower = 0\n",
        "\n",
        "  if (len(password) >= 8):\n",
        "    length = 1\n",
        "  else:\n",
        "    print(\"The password is contains less than 8 characters.\")\n",
        "    length = 0\n",
        "\n",
        "  if (any(x.isdigit() for x in password)):\n",
        "    numbers = 1\n",
        "  else:\n",
        "    print(\"does not contain a number.\")\n",
        "    numbers = 0\n",
        "\n",
        "  sCharacters = \"!@#$%^&*()-=_+\"\n",
        "  if any(x in sCharacters for x in password):\n",
        "    sChar = 1\n",
        "  else:\n",
        "    print(\"does not contain a special character.\")\n",
        "    sChar = 0\n",
        "\n",
        "  if (upper == 1 and lower == 1 and length == 1 and numbers == 1 and sChar == 1):\n",
        "    break"
      ],
      "execution_count": 86,
      "outputs": [
        {
          "output_type": "stream",
          "text": [
            "Please create a password.  It must be at least 8 characters, must contain a number, an uppercase letter, a lowercase letter, and a special character.ASD2@@#@#@#\n",
            "does not contain a lowercase letter\n",
            "Please create a password.  It must be at least 8 characters, must contain a number, an uppercase letter, a lowercase letter, and a special character.asdDSD2323@@@\n"
          ],
          "name": "stdout"
        }
      ]
    },
    {
      "cell_type": "markdown",
      "metadata": {
        "id": "Eu6LfQYrNyLv"
      },
      "source": [
        "#Displaying Numbers that Contain a Specific Number\n",
        "\n",
        "This program displays every number from 1 to 1000 that contains the number 3."
      ]
    },
    {
      "cell_type": "code",
      "metadata": {
        "id": "69sPQSo60peJ",
        "outputId": "76dbdfe4-4c24-41b5-f1ab-70efbe51f169",
        "colab": {
          "base_uri": "https://localhost:8080/",
          "height": 54
        }
      },
      "source": [
        "charCheck = \"3\"\n",
        "\n",
        "for i in range(1000):\n",
        "  if (any(x in charCheck for x in str(i))):\n",
        "    print(i, end=\" | \")"
      ],
      "execution_count": 90,
      "outputs": [
        {
          "output_type": "stream",
          "text": [
            "3 | 13 | 23 | 30 | 31 | 32 | 33 | 34 | 35 | 36 | 37 | 38 | 39 | 43 | 53 | 63 | 73 | 83 | 93 | 103 | 113 | 123 | 130 | 131 | 132 | 133 | 134 | 135 | 136 | 137 | 138 | 139 | 143 | 153 | 163 | 173 | 183 | 193 | 203 | 213 | 223 | 230 | 231 | 232 | 233 | 234 | 235 | 236 | 237 | 238 | 239 | 243 | 253 | 263 | 273 | 283 | 293 | 300 | 301 | 302 | 303 | 304 | 305 | 306 | 307 | 308 | 309 | 310 | 311 | 312 | 313 | 314 | 315 | 316 | 317 | 318 | 319 | 320 | 321 | 322 | 323 | 324 | 325 | 326 | 327 | 328 | 329 | 330 | 331 | 332 | 333 | 334 | 335 | 336 | 337 | 338 | 339 | 340 | 341 | 342 | 343 | 344 | 345 | 346 | 347 | 348 | 349 | 350 | 351 | 352 | 353 | 354 | 355 | 356 | 357 | 358 | 359 | 360 | 361 | 362 | 363 | 364 | 365 | 366 | 367 | 368 | 369 | 370 | 371 | 372 | 373 | 374 | 375 | 376 | 377 | 378 | 379 | 380 | 381 | 382 | 383 | 384 | 385 | 386 | 387 | 388 | 389 | 390 | 391 | 392 | 393 | 394 | 395 | 396 | 397 | 398 | 399 | 403 | 413 | 423 | 430 | 431 | 432 | 433 | 434 | 435 | 436 | 437 | 438 | 439 | 443 | 453 | 463 | 473 | 483 | 493 | 503 | 513 | 523 | 530 | 531 | 532 | 533 | 534 | 535 | 536 | 537 | 538 | 539 | 543 | 553 | 563 | 573 | 583 | 593 | 603 | 613 | 623 | 630 | 631 | 632 | 633 | 634 | 635 | 636 | 637 | 638 | 639 | 643 | 653 | 663 | 673 | 683 | 693 | 703 | 713 | 723 | 730 | 731 | 732 | 733 | 734 | 735 | 736 | 737 | 738 | 739 | 743 | 753 | 763 | 773 | 783 | 793 | 803 | 813 | 823 | 830 | 831 | 832 | 833 | 834 | 835 | 836 | 837 | 838 | 839 | 843 | 853 | 863 | 873 | 883 | 893 | 903 | 913 | 923 | 930 | 931 | 932 | 933 | 934 | 935 | 936 | 937 | 938 | 939 | 943 | 953 | 963 | 973 | 983 | 993 | "
          ],
          "name": "stdout"
        }
      ]
    },
    {
      "cell_type": "markdown",
      "metadata": {
        "id": "lrsodacWORfc"
      },
      "source": [
        "#Outputting Even Numbers in a Range With Modular Division\n",
        "\n",
        "This program outputs all of the even numbers between 1 and 100 backwards.  Whether or not a number is even is determined by using modular division."
      ]
    },
    {
      "cell_type": "code",
      "metadata": {
        "id": "uzYOJJvg-PYp",
        "outputId": "5b2383f9-626e-46a0-991d-51328d5f1e7a",
        "colab": {
          "base_uri": "https://localhost:8080/",
          "height": 885
        }
      },
      "source": [
        "i = 100\n",
        "\n",
        "while (i > 0):\n",
        "  if (i % 2) == 0:\n",
        "    print(i)\n",
        "  \n",
        "  i -= 1\n"
      ],
      "execution_count": 92,
      "outputs": [
        {
          "output_type": "stream",
          "text": [
            "100\n",
            "98\n",
            "96\n",
            "94\n",
            "92\n",
            "90\n",
            "88\n",
            "86\n",
            "84\n",
            "82\n",
            "80\n",
            "78\n",
            "76\n",
            "74\n",
            "72\n",
            "70\n",
            "68\n",
            "66\n",
            "64\n",
            "62\n",
            "60\n",
            "58\n",
            "56\n",
            "54\n",
            "52\n",
            "50\n",
            "48\n",
            "46\n",
            "44\n",
            "42\n",
            "40\n",
            "38\n",
            "36\n",
            "34\n",
            "32\n",
            "30\n",
            "28\n",
            "26\n",
            "24\n",
            "22\n",
            "20\n",
            "18\n",
            "16\n",
            "14\n",
            "12\n",
            "10\n",
            "8\n",
            "6\n",
            "4\n",
            "2\n"
          ],
          "name": "stdout"
        }
      ]
    },
    {
      "cell_type": "markdown",
      "metadata": {
        "id": "QK-z3Z-3Ozth"
      },
      "source": [
        "#Finding Prime Numbers\n",
        "\n",
        "This program outputs all of the prime numbers between 100 and 1000."
      ]
    },
    {
      "cell_type": "code",
      "metadata": {
        "id": "5F6uh5gS_QSM",
        "outputId": "488f5eef-7839-4cf8-c74f-918ce1bde9d8",
        "colab": {
          "base_uri": "https://localhost:8080/",
          "height": 54
        }
      },
      "source": [
        "for i in range(100,1001):\n",
        "\n",
        "  check = 2\n",
        "  prime = True\n",
        "\n",
        "  while (check < i):\n",
        "    if i % check == 0:\n",
        "      prime = False\n",
        "      break\n",
        "    check += 1\n",
        "  \n",
        "  if prime:\n",
        "    print(i, end=\" | \")\n"
      ],
      "execution_count": 100,
      "outputs": [
        {
          "output_type": "stream",
          "text": [
            "101 | 103 | 107 | 109 | 113 | 127 | 131 | 137 | 139 | 149 | 151 | 157 | 163 | 167 | 173 | 179 | 181 | 191 | 193 | 197 | 199 | 211 | 223 | 227 | 229 | 233 | 239 | 241 | 251 | 257 | 263 | 269 | 271 | 277 | 281 | 283 | 293 | 307 | 311 | 313 | 317 | 331 | 337 | 347 | 349 | 353 | 359 | 367 | 373 | 379 | 383 | 389 | 397 | 401 | 409 | 419 | 421 | 431 | 433 | 439 | 443 | 449 | 457 | 461 | 463 | 467 | 479 | 487 | 491 | 499 | 503 | 509 | 521 | 523 | 541 | 547 | 557 | 563 | 569 | 571 | 577 | 587 | 593 | 599 | 601 | 607 | 613 | 617 | 619 | 631 | 641 | 643 | 647 | 653 | 659 | 661 | 673 | 677 | 683 | 691 | 701 | 709 | 719 | 727 | 733 | 739 | 743 | 751 | 757 | 761 | 769 | 773 | 787 | 797 | 809 | 811 | 821 | 823 | 827 | 829 | 839 | 853 | 857 | 859 | 863 | 877 | 881 | 883 | 887 | 907 | 911 | 919 | 929 | 937 | 941 | 947 | 953 | 967 | 971 | 977 | 983 | 991 | 997 | "
          ],
          "name": "stdout"
        }
      ]
    }
  ]
}