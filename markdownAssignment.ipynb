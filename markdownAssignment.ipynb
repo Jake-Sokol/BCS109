{
  "nbformat": 4,
  "nbformat_minor": 0,
  "metadata": {
    "colab": {
      "name": "markdownAssignment.ipynb",
      "provenance": []
    },
    "kernelspec": {
      "name": "python3",
      "display_name": "Python 3"
    }
  },
  "cells": [
    {
      "cell_type": "markdown",
      "metadata": {
        "id": "qdplO4KuGRAe",
        "colab_type": "text"
      },
      "source": [
        "#Markdown Assignment\n",
        "\n",
        "I recently started flying drones as a hobby.  I currently only fly **camera drones**, but I am considering getting a *racing drone* in the future.\n",
        "\n",
        "* I [upload some drone videos](https://youtu.be/kZ0SWYNvDOY) on a throwaway youtube account that I made last year"
      ]
    },
    {
      "cell_type": "code",
      "metadata": {
        "id": "EYlUjvAYGP0o",
        "colab_type": "code",
        "colab": {}
      },
      "source": [
        ""
      ],
      "execution_count": null,
      "outputs": []
    }
  ]
}