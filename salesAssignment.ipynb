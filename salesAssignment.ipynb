{
  "nbformat": 4,
  "nbformat_minor": 0,
  "metadata": {
    "colab": {
      "name": "salesAssignment.ipynb",
      "provenance": []
    },
    "kernelspec": {
      "name": "python3",
      "display_name": "Python 3"
    }
  },
  "cells": [
    {
      "cell_type": "markdown",
      "metadata": {
        "id": "t-28ZMw051rp",
        "colab_type": "text"
      },
      "source": [
        "#Software Company Discount Program\n",
        "\n",
        "A software company sells a package for $99, with discounts applied based on the quantity purchased.\n",
        "\n",
        "This program allows a user to enter the number of packages purchased, after which it tells them the discount applied and the total price."
      ]
    },
    {
      "cell_type": "code",
      "metadata": {
        "id": "Yok8LUyIto7q",
        "colab_type": "code",
        "colab": {
          "base_uri": "https://localhost:8080/",
          "height": 52
        },
        "outputId": "014e9602-5307-4770-c6b6-57c278381f84"
      },
      "source": [
        "numOfPackages = int(input(\"How many packages will you purchase?: \"))\n",
        "\n",
        "if numOfPackages > 99:\n",
        "  discount = .4\n",
        "elif numOfPackages > 49:\n",
        "  discount = .3\n",
        "elif numOfPackages > 19:\n",
        "  discount = .2\n",
        "elif numOfPackages > 9:\n",
        "  discount = .1\n",
        "\n",
        "if numOfPackages > 9:\n",
        "  totalPrice = (99*numOfPackages) - ((99*numOfPackages)*discount)\n",
        "  print(f\"The discount is {discount*100: .0f}% and the total price is ${totalPrice: .2f}\")\n",
        "else:\n",
        "  print(f\"The total price is ${(99*numOfPackages): .2f}\")"
      ],
      "execution_count": 29,
      "outputs": [
        {
          "output_type": "stream",
          "text": [
            "How many packages will you purchase?: 101\n",
            "The discount is  40% and the total price is $ 5999.40\n"
          ],
          "name": "stdout"
        }
      ]
    },
    {
      "cell_type": "markdown",
      "metadata": {
        "id": "Bwz_FcFX6VBf",
        "colab_type": "text"
      },
      "source": [
        "#Fast Freight Shipping Company Program\n",
        "\n",
        "This program allows the user to enter the weight of a package and check how much the shipping charge will be to ship with the Fast Freight Shipping Company."
      ]
    },
    {
      "cell_type": "code",
      "metadata": {
        "id": "L4NMw9Le6ods",
        "colab_type": "code",
        "colab": {
          "base_uri": "https://localhost:8080/",
          "height": 52
        },
        "outputId": "c8c7cac9-7b51-4c2a-e113-2a1edadc3b54"
      },
      "source": [
        "weight = float(input(\"What is the weight of the package?:\"))\n",
        "\n",
        "if weight >= 10:\n",
        "  rate = 4.75\n",
        "elif weight >= 6:\n",
        "  rate = 4\n",
        "elif weight >= 2:\n",
        "  rate = 3\n",
        "else:\n",
        "  rate = 1.5\n",
        "\n",
        "print(f\"The shipping charge is ${rate*weight:.2f}\")\n"
      ],
      "execution_count": 36,
      "outputs": [
        {
          "output_type": "stream",
          "text": [
            "What is the weight of the package?:7.65\n",
            "The shipping charge is $30.60\n"
          ],
          "name": "stdout"
        }
      ]
    }
  ]
}