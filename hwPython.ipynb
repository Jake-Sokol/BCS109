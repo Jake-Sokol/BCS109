{
  "nbformat": 4,
  "nbformat_minor": 0,
  "metadata": {
    "colab": {
      "name": "hwPython.ipynb",
      "provenance": []
    },
    "kernelspec": {
      "name": "python3",
      "display_name": "Python 3"
    }
  },
  "cells": [
    {
      "cell_type": "markdown",
      "metadata": {
        "id": "JsJBlrq5VAZo"
      },
      "source": [
        "1. Create functions to do the following: max, min, average, standard deviation, and geometric average. "
      ]
    },
    {
      "cell_type": "code",
      "metadata": {
        "id": "A_9MFEqXPgUj",
        "outputId": "47bb7efa-d69c-4fac-8c4a-04516b196dfa",
        "colab": {
          "base_uri": "https://localhost:8080/"
        }
      },
      "source": [
        "def theMax(numbers):\n",
        "  max = -1\n",
        "  for k in numbers:\n",
        "    if max < k:\n",
        "      max = k\n",
        "  return max\n",
        "\n",
        "def theMin(numbers):\n",
        "  min = 10000000000\n",
        "  for k in numbers:\n",
        "    if min > k:\n",
        "      min = k\n",
        "  return min\n",
        "\n",
        "def theAverage(numbers):\n",
        "  total = 0\n",
        "  for k in numbers:\n",
        "    total += k\n",
        "  return total/len(numbers)\n",
        "\n",
        "def theSD(numbers):\n",
        "  total = 0\n",
        "  avg = theAverage(numbers)\n",
        "  for k in numbers:\n",
        "    total += k\n",
        "  return pow(total, 1/(len(numbers) - 1),.5)\n",
        "\n",
        "def theGeoMean(numbers):\n",
        "  total = 1\n",
        "  for k in numbers:\n",
        "    total += k\n",
        "  return pow(total, 1/len(numbers))\n",
        "\n",
        "theList = [19, 32, 34, 33, 75, 91, 9, 4, 18, 38]\n",
        "print(theAverage(theList))\n",
        "print(theGeoMean(theList))\n"
      ],
      "execution_count": 68,
      "outputs": [
        {
          "output_type": "stream",
          "text": [
            "35.3\n",
            "1.798458108314855\n"
          ],
          "name": "stdout"
        }
      ]
    },
    {
      "cell_type": "markdown",
      "metadata": {
        "id": "OiVOI7LLVA0D"
      },
      "source": [
        "2. Create a function that asks the user which shape they would like to analyze. It should then call other functions based on this and return the area of the shape.  The triangle function should take in the base and height, the circle function should take in the radius, and the square function should take in the side length."
      ]
    },
    {
      "cell_type": "code",
      "metadata": {
        "id": "xSX2-nyxVBJE",
        "outputId": "d5862e82-72f6-45d7-a4b6-feded294f9d2",
        "colab": {
          "base_uri": "https://localhost:8080/"
        }
      },
      "source": [
        "import math\n",
        "\n",
        "def chooseShape():\n",
        "  val = input(\"Press 1 for triangle, 2 for circle, 3 for square\")\n",
        "  if val == 1:\n",
        "    triangleArea()\n",
        "  elif val == 2:\n",
        "    circleArea()\n",
        "  elif val == 3:\n",
        "    squareArea()\n",
        "  else:\n",
        "    print(\"Invalid choice\")\n",
        "\n",
        "def triangleArea():\n",
        "  base = float(input('What is the base?'))\n",
        "  height = float(input('What is the height?'))\n",
        "  print(f'The area is {base*height/2}')\n",
        "\n",
        "def circleArea():\n",
        "  radius = float(input('What is the radius?'))\n",
        "  print(f'The area of the circle is {radius*radius*math.pi}')\n",
        "\n",
        "def squareArea():\n",
        "  length = float(input('What is the length of one of the sides?'))\n",
        "  print(f'The area of the square is {length*length}')\n"
      ],
      "execution_count": 40,
      "outputs": [
        {
          "output_type": "stream",
          "text": [
            "Press 1 for triangle, 2 for circle, 3 for square1\n",
            "Invalid choice\n"
          ],
          "name": "stdout"
        }
      ]
    },
    {
      "cell_type": "markdown",
      "metadata": {
        "id": "MbgpcGpwqecy"
      },
      "source": [
        "3. Create a function that takes in a list and returns the list doubled. It should ask the user for option one or two. If the user chooses option one it should return the list doubled such as [1 2 3] becoming [1 2 3 1 2 3], if the user chooses option two then is should return the list such as [1 2 3] becoming [2 4 6]."
      ]
    },
    {
      "cell_type": "code",
      "metadata": {
        "id": "Sk9JO2gsqgLW",
        "outputId": "3828f77e-31b8-4f48-d757-3831a60b5b58",
        "colab": {
          "base_uri": "https://localhost:8080/"
        }
      },
      "source": [
        "def doubleIt(x):\n",
        "  choice = int(input('Say 1 to double the numbers and 2 to double the values'))\n",
        "\n",
        "  if choice == 1:\n",
        "    return x*2\n",
        "  elif choice == 2:\n",
        "    for k in range(len(x)):\n",
        "      x[k] = x[k]*2\n",
        "    return x\n",
        "  \n",
        "\n",
        "val = [1, 2, 3]\n",
        "other = doubleIt(val)\n",
        "  \n",
        "print(other)"
      ],
      "execution_count": 39,
      "outputs": [
        {
          "output_type": "stream",
          "text": [
            "Say 1 to double the numbers and 2 to double the values2\n",
            "[2, 4, 6]\n"
          ],
          "name": "stdout"
        }
      ]
    },
    {
      "cell_type": "markdown",
      "metadata": {
        "id": "Nodd-SzaE7uR"
      },
      "source": [
        "4. Create a function that takes in two lists and concatenates the numbers in those lists. For instance, if we have [1 2 3] and [7 8 9], we should return [17 28 39]."
      ]
    },
    {
      "cell_type": "code",
      "metadata": {
        "id": "YikeYmikE8EM",
        "outputId": "4642611c-e034-4e93-93cb-7cbf36739438",
        "colab": {
          "base_uri": "https://localhost:8080/"
        }
      },
      "source": [
        "def putTogether(x,y):\n",
        "  other = []\n",
        "  for i in range(len(x)):\n",
        "    other.append(x[i]*10 + y[i])\n",
        "  return other\n",
        "\n",
        "x = [1, 2, 3]\n",
        "y = [7, 8, 9]\n",
        "print(putTogether(x,y))\n"
      ],
      "execution_count": 44,
      "outputs": [
        {
          "output_type": "stream",
          "text": [
            "[17, 28, 39]\n"
          ],
          "name": "stdout"
        }
      ]
    },
    {
      "cell_type": "markdown",
      "metadata": {
        "id": "j6wmr5iQccnp"
      },
      "source": [
        "5. Returns a list of primes up until the number passed in. So if 100 is passed in, it should return all the primes up until 100."
      ]
    },
    {
      "cell_type": "code",
      "metadata": {
        "id": "SgWx98f0cc-L",
        "outputId": "8f0a8b1b-1d21-44bc-b2c8-a19fd46e6a80",
        "colab": {
          "base_uri": "https://localhost:8080/"
        }
      },
      "source": [
        "def findPrimes(x):\n",
        "  for i in range(1,x):\n",
        "\n",
        "    check = 2\n",
        "    prime = True\n",
        "\n",
        "    while (check < i):\n",
        "      if i % check == 0:\n",
        "        prime = False\n",
        "        break\n",
        "      check += 1\n",
        "  \n",
        "    if prime:\n",
        "      print(i, end=\" | \")\n",
        "\n",
        "numOfPrimes = int(input(\"What number do you want to find primes up until?\"))\n",
        "findPrimes(numOfPrimes)"
      ],
      "execution_count": 47,
      "outputs": [
        {
          "output_type": "stream",
          "text": [
            "What number do you want to find primes up until?1000\n",
            "1 | 2 | 3 | 5 | 7 | 11 | 13 | 17 | 19 | 23 | 29 | 31 | 37 | 41 | 43 | 47 | 53 | 59 | 61 | 67 | 71 | 73 | 79 | 83 | 89 | 97 | 101 | 103 | 107 | 109 | 113 | 127 | 131 | 137 | 139 | 149 | 151 | 157 | 163 | 167 | 173 | 179 | 181 | 191 | 193 | 197 | 199 | 211 | 223 | 227 | 229 | 233 | 239 | 241 | 251 | 257 | 263 | 269 | 271 | 277 | 281 | 283 | 293 | 307 | 311 | 313 | 317 | 331 | 337 | 347 | 349 | 353 | 359 | 367 | 373 | 379 | 383 | 389 | 397 | 401 | 409 | 419 | 421 | 431 | 433 | 439 | 443 | 449 | 457 | 461 | 463 | 467 | 479 | 487 | 491 | 499 | 503 | 509 | 521 | 523 | 541 | 547 | 557 | 563 | 569 | 571 | 577 | 587 | 593 | 599 | 601 | 607 | 613 | 617 | 619 | 631 | 641 | 643 | 647 | 653 | 659 | 661 | 673 | 677 | 683 | 691 | 701 | 709 | 719 | 727 | 733 | 739 | 743 | 751 | 757 | 761 | 769 | 773 | 787 | 797 | 809 | 811 | 821 | 823 | 827 | 829 | 839 | 853 | 857 | 859 | 863 | 877 | 881 | 883 | 887 | 907 | 911 | 919 | 929 | 937 | 941 | 947 | 953 | 967 | 971 | 977 | 983 | 991 | 997 | "
          ],
          "name": "stdout"
        }
      ]
    },
    {
      "cell_type": "markdown",
      "metadata": {
        "id": "dPXrnxIog82x"
      },
      "source": [
        "6. Write a function calculation() such that it can accept two variables and calculate the addition and subtraction of it. And also it must return both addition and subtraction in a single return call"
      ]
    },
    {
      "cell_type": "code",
      "metadata": {
        "id": "3S32DdKGg9XV",
        "outputId": "0762f68f-c15a-409b-d32b-c865424c7f92",
        "colab": {
          "base_uri": "https://localhost:8080/"
        }
      },
      "source": [
        "def calculation(num, num2):\n",
        "  calc = []\n",
        "  calc.append(num+num2)\n",
        "  calc.append(num-num2)\n",
        "  return calc\n",
        "\n",
        "num = 10\n",
        "num2 = 5\n",
        "returnedArray = calculation(num, num2)\n",
        "print(f\"addition of {num} and {num2} is {returnedArray[0]}\")\n",
        "print(f\"subtraction of {num} and {num2} is {returnedArray[1]}\")\n"
      ],
      "execution_count": 54,
      "outputs": [
        {
          "output_type": "stream",
          "text": [
            "addition of 10 and 5 is 15\n",
            "subtraction of 10 and 5 is 5\n"
          ],
          "name": "stdout"
        }
      ]
    },
    {
      "cell_type": "markdown",
      "metadata": {
        "id": "4hcpjREzkAzG"
      },
      "source": [
        "\n",
        "7. If we list all the natural numbers below 10 that are multiples of 3 or 5, we get 3, 5, 6 and 9. The sum of these multiples is 23.Find the sum of all the multiples of 3 or 5 below 1000.\n",
        "\n",
        "\n"
      ]
    },
    {
      "cell_type": "code",
      "metadata": {
        "id": "pM_c4b9zkBGu",
        "outputId": "84378ff0-144e-42b6-d44c-9973ff183119",
        "colab": {
          "base_uri": "https://localhost:8080/"
        }
      },
      "source": [
        "total = 0\n",
        "\n",
        "for i in range(1,1000):\n",
        "  if ((i % 3 == 0) or (i % 5 == 0)):\n",
        "    total = total + i\n",
        "\n",
        "print(total)"
      ],
      "execution_count": 67,
      "outputs": [
        {
          "output_type": "stream",
          "text": [
            "233168\n"
          ],
          "name": "stdout"
        }
      ]
    },
    {
      "cell_type": "markdown",
      "metadata": {
        "id": "1rchCYJsIzxT"
      },
      "source": [
        "8. Find the sum of the even valued Fibonacci numbers below 1000."
      ]
    },
    {
      "cell_type": "code",
      "metadata": {
        "id": "fClrdyVNI0FX",
        "outputId": "1cda1e07-51ab-41f8-a92a-24eee36eb2b0",
        "colab": {
          "base_uri": "https://localhost:8080/"
        }
      },
      "source": [
        "def fib():\n",
        "  a = 1\n",
        "  b = 1\n",
        "  total = 0\n",
        "\n",
        "  for k in range(5000):\n",
        "    c = a + b\n",
        "    if (c % 2 == 0) and (c<=1000):\n",
        "      #print(c)\n",
        "      total += c\n",
        "    a = b\n",
        "    b = c\n",
        "\n",
        "  return total\n",
        "\n",
        "print(fib())"
      ],
      "execution_count": 70,
      "outputs": [
        {
          "output_type": "stream",
          "text": [
            "798\n"
          ],
          "name": "stdout"
        }
      ]
    }
  ]
}